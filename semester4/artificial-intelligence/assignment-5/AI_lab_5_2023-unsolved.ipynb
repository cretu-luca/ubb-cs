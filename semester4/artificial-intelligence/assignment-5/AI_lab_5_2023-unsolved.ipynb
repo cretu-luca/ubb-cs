{
 "cells": [
  {
   "cell_type": "markdown",
   "id": "b8210b19",
   "metadata": {},
   "source": [
    "## A.I. Assignment 5\n",
    "\n",
    "## Learning Goals\n",
    "\n",
    "By the end of this lab, you should be able to:\n",
    "* Get more familiar with tensors in pytorch \n",
    "* Create a simple multilayer perceptron model with pytorch\n",
    "* Visualise the parameters\n",
    "\n",
    "\n",
    "### Task\n",
    "\n",
    "Build a fully connected feed forward network that adds two bits. Determine the a propper achitecture for this network (what database you use for this problem? how many layers? how many neurons on each layer? what is the activation function? what is the loss function? etc)\n",
    "\n",
    "Create at least 3 such networks and compare their performance (how accurate they are?, how farst they are trained to get at 1 accuracy?)\n",
    "\n",
    "Display for the best one the weights for each layer.\n"
   ]
  },
  {
   "cell_type": "code",
   "execution_count": 2,
   "id": "e3614e5f",
   "metadata": {},
   "outputs": [],
   "source": [
    "import torch\n",
    "import torch.nn as nn\n",
    "from collections import OrderedDict"
   ]
  },
  {
   "cell_type": "code",
   "execution_count": 3,
   "id": "5ee7e7d7",
   "metadata": {},
   "outputs": [],
   "source": [
    "# your code here\n",
    "model1 = nn.Sequential(OrderedDict([\n",
    "    ('hidden', nn.Linear(2, 2)), \n",
    "    ('ReLU', nn.ReLU()), \n",
    "    ('output', nn.Linear(2, 2)),\n",
    "    ('tanh', nn.Tanh())\n",
    "]))"
   ]
  },
  {
   "cell_type": "code",
   "execution_count": 5,
   "id": "665ae958",
   "metadata": {},
   "outputs": [
    {
     "name": "stdout",
     "output_type": "stream",
     "text": [
      "Sequential(\n",
      "  (hidden): Linear(in_features=2, out_features=2, bias=True)\n",
      "  (ReLU): ReLU()\n",
      "  (output): Linear(in_features=2, out_features=2, bias=True)\n",
      "  (tanh): Tanh()\n",
      ")\n"
     ]
    }
   ],
   "source": [
    "print(model1)"
   ]
  },
  {
   "cell_type": "code",
   "execution_count": 7,
   "id": "e26f0d3e",
   "metadata": {},
   "outputs": [
    {
     "name": "stdout",
     "output_type": "stream",
     "text": [
      "tensor([[0., 0.],\n",
      "        [0., 1.],\n",
      "        [1., 0.],\n",
      "        [1., 1.]])\n"
     ]
    }
   ],
   "source": [
    "# your code here\n",
    "data_in1 = torch.tensor([[0, 0], [0, 1], [1, 0], [1, 1]], dtype=torch.float)\n",
    "print(data_in1)"
   ]
  },
  {
   "cell_type": "code",
   "execution_count": 8,
   "id": "4fb16bbc",
   "metadata": {},
   "outputs": [
    {
     "name": "stdout",
     "output_type": "stream",
     "text": [
      "tensor([[0., 0.],\n",
      "        [0., 1.],\n",
      "        [0., 1.],\n",
      "        [1., 0.]])\n"
     ]
    }
   ],
   "source": [
    "# your code here\n",
    "data_target1 = torch.tensor([[0, 0], [0, 1], [0, 1], [1, 0]], dtype=torch.float)\n",
    "print(data_target1)"
   ]
  },
  {
   "cell_type": "code",
   "execution_count": 11,
   "id": "69d920ed",
   "metadata": {},
   "outputs": [],
   "source": [
    "# your code here\n",
    "criterion1 = nn.MSELoss()\n",
    "optimizer1 = torch.optim.SGD(model1.parameters(), lr=0.1) "
   ]
  },
  {
   "cell_type": "code",
   "execution_count": null,
   "id": "cde91f6f",
   "metadata": {},
   "outputs": [
    {
     "name": "stdout",
     "output_type": "stream",
     "text": [
      "Epoch 1000 Loss: 0.16411195695400238 Accuracy: 75.0%\n",
      "Epoch 2000 Loss: 0.16411195695400238 Accuracy: 75.0%\n",
      "Epoch 3000 Loss: 0.16411195695400238 Accuracy: 75.0%\n",
      "Epoch 4000 Loss: 0.16411195695400238 Accuracy: 75.0%\n",
      "Epoch 5000 Loss: 0.16411195695400238 Accuracy: 75.0%\n",
      "Epoch 6000 Loss: 0.16411195695400238 Accuracy: 75.0%\n",
      "Epoch 7000 Loss: 0.16411195695400238 Accuracy: 75.0%\n",
      "Epoch 8000 Loss: 0.16411197185516357 Accuracy: 75.0%\n",
      "Epoch 9000 Loss: 0.16411195695400238 Accuracy: 75.0%\n",
      "Epoch 10000 Loss: 0.16411195695400238 Accuracy: 75.0%\n"
     ]
    }
   ],
   "source": [
    "# your code here\n",
    "# Train the model\n",
    "for epoch in range(10000):\n",
    "    outputs1 = model1(data_in1)\n",
    "    loss1 = criterion1(outputs1, data_target1)\n",
    "    \n",
    "    optimizer1.zero_grad()  \n",
    "    loss1.backward()          \n",
    "    optimizer1.step()         \n",
    "    \n",
    "    predicted_classes1 = (outputs1.round() == data_target1)\n",
    "    accuracy1 = predicted_classes1.all(dim=1).sum() / len(data_target1)\n",
    "    if (epoch+1) % 1000 == 0:\n",
    "        print(f'Epoch {epoch+1} Loss: {loss1.item()} Accuracy: {accuracy1*100}%')\n",
    "    if accuracy1 == 1:\n",
    "        print(f\"Model 1 reached 100% accuracy at epoch {epoch+1}\")\n",
    "        break"
   ]
  },
  {
   "cell_type": "code",
   "execution_count": 17,
   "id": "dff3ec1a",
   "metadata": {},
   "outputs": [
    {
     "name": "stdout",
     "output_type": "stream",
     "text": [
      "tensor([[-0.2405,  0.5000],\n",
      "        [ 0.2405,  0.5000],\n",
      "        [ 0.2405,  0.5000],\n",
      "        [ 0.6268,  0.5000]], grad_fn=<TanhBackward0>)\n",
      "Model Accuracy: 75.0%\n"
     ]
    }
   ],
   "source": [
    "# your code here\n",
    "# visualize the resuts\n",
    "print(outputs1)\n",
    "predicted1 = torch.round(outputs1)\n",
    "correct1 = (predicted1 == data_target1).all(dim=1).sum()\n",
    "total1 = data_target1.size(0)\n",
    "accuracy1 = correct1 / total1\n",
    "print(f'Model Accuracy: {accuracy1*100}%')"
   ]
  },
  {
   "cell_type": "code",
   "execution_count": 14,
   "id": "c1a7518b",
   "metadata": {},
   "outputs": [
    {
     "name": "stdout",
     "output_type": "stream",
     "text": [
      "Model weights:\n",
      "hidden.weight tensor([[-0.6085, -0.4645],\n",
      "        [ 0.6628,  0.6628]])\n",
      "hidden.bias tensor([-0.4656,  0.2353])\n",
      "output.weight tensor([[-1.7507e-01,  7.4034e-01],\n",
      "        [-5.2577e-01, -6.3373e-06]])\n",
      "output.bias tensor([-0.4196,  0.5493])\n"
     ]
    }
   ],
   "source": [
    "# your code here\n",
    "# print model wights\n",
    "print(f\"Model weights:\")\n",
    "for name, param in model1.named_parameters():\n",
    "    if param.requires_grad:\n",
    "        print(name, param.data)"
   ]
  },
  {
   "cell_type": "code",
   "execution_count": 18,
   "id": "4cdf09ba",
   "metadata": {},
   "outputs": [],
   "source": [
    "# your code here\n",
    "model2 = nn.Sequential(OrderedDict([\n",
    "    ('hidden', nn.Linear(2, 3)), \n",
    "    ('ReLU', nn.ReLU()), \n",
    "    ('output', nn.Linear(3, 2)),\n",
    "    ('tanh', nn.Tanh())\n",
    "]))"
   ]
  },
  {
   "cell_type": "code",
   "execution_count": 19,
   "id": "d0bea66c",
   "metadata": {},
   "outputs": [
    {
     "name": "stdout",
     "output_type": "stream",
     "text": [
      "Sequential(\n",
      "  (hidden): Linear(in_features=2, out_features=3, bias=True)\n",
      "  (ReLU): ReLU()\n",
      "  (output): Linear(in_features=3, out_features=2, bias=True)\n",
      "  (tanh): Tanh()\n",
      ")\n"
     ]
    }
   ],
   "source": [
    "print(model2)"
   ]
  },
  {
   "cell_type": "code",
   "execution_count": 20,
   "id": "e29c65a2",
   "metadata": {},
   "outputs": [],
   "source": [
    "criterion2 = nn.MSELoss()\n",
    "optimizer2 = torch.optim.SGD(model2.parameters(), lr=0.1) "
   ]
  },
  {
   "cell_type": "code",
   "execution_count": null,
   "id": "5d5c2587",
   "metadata": {},
   "outputs": [
    {
     "name": "stdout",
     "output_type": "stream",
     "text": [
      "Epoch 1000 Loss: 0.21875 Accuracy: 25.0%\n",
      "Epoch 2000 Loss: 0.21875 Accuracy: 25.0%\n",
      "Epoch 3000 Loss: 0.21875 Accuracy: 25.0%\n",
      "Epoch 4000 Loss: 0.21875 Accuracy: 25.0%\n",
      "Epoch 5000 Loss: 0.21875 Accuracy: 25.0%\n",
      "Epoch 6000 Loss: 0.21875 Accuracy: 25.0%\n",
      "Epoch 7000 Loss: 0.21875 Accuracy: 25.0%\n",
      "Epoch 8000 Loss: 0.21875 Accuracy: 25.0%\n",
      "Epoch 9000 Loss: 0.21875 Accuracy: 25.0%\n",
      "Epoch 10000 Loss: 0.21875 Accuracy: 25.0%\n"
     ]
    }
   ],
   "source": [
    "for epoch in range(10000):\n",
    "    outputs2 = model2(data_in1)\n",
    "    loss2 = criterion2(outputs2, data_target1)\n",
    "    \n",
    "    optimizer2.zero_grad()  \n",
    "    loss2.backward()          \n",
    "    optimizer2.step()\n",
    "    \n",
    "    predicted_classes2 = (outputs2.round() == data_target1)\n",
    "    accuracy2 = predicted_classes2.all(dim=1).sum() / len(data_target1)\n",
    "    if (epoch+1) % 1000 == 0:\n",
    "        print(f'Epoch {epoch+1} Loss: {loss2.item()} Accuracy: {accuracy2*100}%')  \n",
    "    if accuracy2 == 1:\n",
    "        print(f\"Model 2 reached 100% accuracy at epoch {epoch+1}\")\n",
    "        break"
   ]
  },
  {
   "cell_type": "code",
   "execution_count": 27,
   "id": "c8a4b11f",
   "metadata": {},
   "outputs": [
    {
     "name": "stdout",
     "output_type": "stream",
     "text": [
      "tensor([[0.2500, 0.5000],\n",
      "        [0.2500, 0.5000],\n",
      "        [0.2500, 0.5000],\n",
      "        [0.2500, 0.5000]], grad_fn=<TanhBackward0>)\n",
      "Model Accuracy: 25.0%\n"
     ]
    }
   ],
   "source": [
    "print(outputs2)\n",
    "predicted2 = torch.round(outputs2)\n",
    "correct2 = (predicted2 == data_target1).all(dim=1).sum()\n",
    "total2 = data_target1.size(0)\n",
    "accuracy2 = correct2 / total2\n",
    "print(f'Model Accuracy: {accuracy2*100}%')"
   ]
  },
  {
   "cell_type": "code",
   "execution_count": 28,
   "id": "2cbb0a18",
   "metadata": {},
   "outputs": [
    {
     "name": "stdout",
     "output_type": "stream",
     "text": [
      "Model weights:\n",
      "hidden.weight tensor([[ 0.4596, -0.6931],\n",
      "        [-0.3624, -0.5289],\n",
      "        [-0.4060,  0.0927]])\n",
      "hidden.bias tensor([-0.4676, -0.3080, -0.4280])\n",
      "output.weight tensor([[-0.0185, -0.3656, -0.3467],\n",
      "        [-0.3888, -0.0592, -0.5313]])\n",
      "output.bias tensor([0.2554, 0.5493])\n"
     ]
    }
   ],
   "source": [
    "# your code here\n",
    "# print model wights\n",
    "print(f\"Model weights:\")\n",
    "for name, param in model2.named_parameters():\n",
    "    if param.requires_grad:\n",
    "        print(name, param.data)"
   ]
  },
  {
   "cell_type": "code",
   "execution_count": 44,
   "id": "81a25b01",
   "metadata": {},
   "outputs": [],
   "source": [
    "model3 = nn.Sequential(OrderedDict([\n",
    "    ('hidden1', nn.Linear(2, 4)),\n",
    "    ('relu1', nn.ReLU()),\n",
    "    ('hidden2', nn.Linear(4, 4)),\n",
    "    ('relu2', nn.ReLU()),\n",
    "    ('output', nn.Linear(4, 2)),\n",
    "    ('sigmoid', nn.Sigmoid())\n",
    "]))"
   ]
  },
  {
   "cell_type": "code",
   "execution_count": 45,
   "id": "898a86db",
   "metadata": {},
   "outputs": [],
   "source": [
    "criterion3 = nn.MSELoss()\n",
    "optimizer3 = torch.optim.SGD(model3.parameters(), lr=0.1) "
   ]
  },
  {
   "cell_type": "code",
   "execution_count": 46,
   "id": "dc6dbd85",
   "metadata": {},
   "outputs": [
    {
     "name": "stdout",
     "output_type": "stream",
     "text": [
      "Epoch 1000 Loss: 0.21867884695529938 Accuracy: 25.0%\n",
      "Epoch 2000 Loss: 0.18171478807926178 Accuracy: 50.0%\n",
      "Model 3 reached 100% accuracy at epoch 2962\n"
     ]
    }
   ],
   "source": [
    "for epoch in range(10000):\n",
    "    outputs3 = model3(data_in1)\n",
    "    loss3 = criterion3(outputs3, data_target1)\n",
    "    \n",
    "    optimizer3.zero_grad()  \n",
    "    loss3.backward()          \n",
    "    optimizer3.step()\n",
    "    \n",
    "    predicted_classes3 = (outputs3.round() == data_target1)\n",
    "    accuracy3 = predicted_classes3.all(dim=1).sum() / len(data_target1)\n",
    "    if (epoch+1) % 1000 == 0:\n",
    "        print(f'Epoch {epoch+1} Loss: {loss3.item()} Accuracy: {accuracy3*100}%')  \n",
    "    if accuracy3 == 1:\n",
    "        print(f\"Model 3 reached 100% accuracy at epoch {epoch+1}\")\n",
    "        break"
   ]
  },
  {
   "cell_type": "code",
   "execution_count": 47,
   "id": "0744bea6",
   "metadata": {},
   "outputs": [
    {
     "name": "stdout",
     "output_type": "stream",
     "text": [
      "tensor([[0.0681, 0.4795],\n",
      "        [0.0497, 0.5007],\n",
      "        [0.0610, 0.9425],\n",
      "        [0.6981, 0.2683]], grad_fn=<SigmoidBackward0>)\n",
      "Model Accuracy: 100.0%\n"
     ]
    }
   ],
   "source": [
    "print(outputs3)\n",
    "predicted3 = torch.round(outputs3)\n",
    "correct3 = (predicted3 == data_target1).all(dim=1).sum()\n",
    "total3 = data_target1.size(0)\n",
    "accuracy3 = correct3 / total3\n",
    "print(f'Model Accuracy: {accuracy3*100}%')"
   ]
  },
  {
   "cell_type": "code",
   "execution_count": 48,
   "id": "a805525b",
   "metadata": {},
   "outputs": [
    {
     "name": "stdout",
     "output_type": "stream",
     "text": [
      "Model weights:\n",
      "hidden.weight tensor([[ 0.4596, -0.6931],\n",
      "        [-0.3624, -0.5289],\n",
      "        [-0.4060,  0.0927]])\n",
      "hidden.bias tensor([-0.4676, -0.3080, -0.4280])\n",
      "output.weight tensor([[-0.0185, -0.3656, -0.3467],\n",
      "        [-0.3888, -0.0592, -0.5313]])\n",
      "output.bias tensor([0.2554, 0.5493])\n"
     ]
    }
   ],
   "source": [
    "print(f\"Model weights:\")\n",
    "for name, param in model2.named_parameters():\n",
    "    if param.requires_grad:\n",
    "        print(name, param.data)"
   ]
  }
 ],
 "metadata": {
  "kernelspec": {
   "display_name": "ai-lab",
   "language": "python",
   "name": "python3"
  },
  "language_info": {
   "codemirror_mode": {
    "name": "ipython",
    "version": 3
   },
   "file_extension": ".py",
   "mimetype": "text/x-python",
   "name": "python",
   "nbconvert_exporter": "python",
   "pygments_lexer": "ipython3",
   "version": "3.13.2"
  }
 },
 "nbformat": 4,
 "nbformat_minor": 5
}
