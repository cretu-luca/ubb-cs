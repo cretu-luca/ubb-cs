{
 "cells": [
  {
   "cell_type": "markdown",
   "id": "e7059aa5",
   "metadata": {},
   "source": [
    "https://www.sfu.ca/~ssurjano/holder.html\n",
    "https://www.sfu.ca/~ssurjano/crossit.html"
   ]
  },
  {
   "cell_type": "code",
   "execution_count": 52,
   "id": "1dcd5d28",
   "metadata": {},
   "outputs": [],
   "source": [
    "import numpy as np\n",
    "\n",
    "from typing import List, Tuple"
   ]
  },
  {
   "cell_type": "code",
   "execution_count": 53,
   "id": "b131566a",
   "metadata": {},
   "outputs": [],
   "source": [
    "population_size = 100\n",
    "bits_per_input = 8"
   ]
  },
  {
   "cell_type": "code",
   "execution_count": 54,
   "id": "e73590a0",
   "metadata": {},
   "outputs": [],
   "source": [
    "def cross_in_tray(x1: int, x2: int) -> int:\n",
    "    return -0.0001 * \\\n",
    "        (abs(abs(np.sin(x1) * np.sin(x2) * np.exp (100 - (np.sqrt(x1 ** 2 + x2 ** 2)) / np.pi) \\\n",
    "    )) + 1) ** 0.1"
   ]
  },
  {
   "cell_type": "code",
   "execution_count": 55,
   "id": "41230e2c",
   "metadata": {},
   "outputs": [],
   "source": [
    "def binary_to_float(binary: str, min_value: int, max_value: int, interval_size: int = 20) -> float:\n",
    "    decimal = int(binary, 2)\n",
    "\n",
    "    return min_value + decimal / max_value * (2 ** interval_size - 1)"
   ]
  },
  {
   "cell_type": "code",
   "execution_count": 56,
   "id": "2bbcf9a5",
   "metadata": {},
   "outputs": [],
   "source": [
    "def float_to_binary(real: str, min_value: int, max_value: int, interval_size: int = 20) -> str:\n",
    "    decimal = int((real - min_value) * (2 ** interval_size - 1)) / (max_value - min_value)\n",
    "\n",
    "    binary = format(decimal, f'0{interval_size}b')\n",
    "    return binary"
   ]
  },
  {
   "cell_type": "code",
   "execution_count": 57,
   "id": "5bd56c36",
   "metadata": {},
   "outputs": [],
   "source": [
    "def generate_individual():\n",
    "    individual = ''.join(np.random.choice(['0', '1']) for _ in range(bits_per_input * 2))\n",
    "\n",
    "    return individual"
   ]
  },
  {
   "cell_type": "code",
   "execution_count": 58,
   "id": "d166a544",
   "metadata": {},
   "outputs": [],
   "source": [
    "def decode(individual: str) -> Tuple[float, float]:\n",
    "    x1_bin = individual[bits_per_input:]\n",
    "    x2_bin = individual[:bits_per_input]\n",
    "\n",
    "    x1 = binary_to_float(x1_bin)\n",
    "    x2 = binary_to_float(x2_bin)\n",
    "\n",
    "    return x1, x2"
   ]
  },
  {
   "cell_type": "code",
   "execution_count": 59,
   "id": "519a5fff",
   "metadata": {},
   "outputs": [],
   "source": [
    "def fitness(individual: str) -> float:\n",
    "    x1, x2 = decode(individual)\n",
    "\n",
    "    return -1 * cross_in_tray(x1, x2)"
   ]
  },
  {
   "cell_type": "code",
   "execution_count": 61,
   "id": "79a66c6a",
   "metadata": {},
   "outputs": [],
   "source": [
    "def generate_initial_population(population_size) -> List[str]:\n",
    "    generation = []\n",
    "    \n",
    "    for _ in population_size:\n",
    "        individual = generate_individual()\n",
    "        fitness_score = fitness(individual)\n",
    "\n",
    "        generation.push({\"binary\": individual, \"score\": fitness_score})\n",
    "\n",
    "    return generation"
   ]
  },
  {
   "cell_type": "code",
   "execution_count": null,
   "id": "115fa944",
   "metadata": {},
   "outputs": [],
   "source": []
  }
 ],
 "metadata": {
  "kernelspec": {
   "display_name": "genetic-algorithms",
   "language": "python",
   "name": "python3"
  },
  "language_info": {
   "codemirror_mode": {
    "name": "ipython",
    "version": 3
   },
   "file_extension": ".py",
   "mimetype": "text/x-python",
   "name": "python",
   "nbconvert_exporter": "python",
   "pygments_lexer": "ipython3",
   "version": "3.13.2"
  }
 },
 "nbformat": 4,
 "nbformat_minor": 5
}
