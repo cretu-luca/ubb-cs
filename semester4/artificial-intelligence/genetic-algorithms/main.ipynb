{
 "cells": [
  {
   "cell_type": "markdown",
   "id": "e7059aa5",
   "metadata": {},
   "source": [
    "https://www.sfu.ca/~ssurjano/holder.html\n",
    "https://www.sfu.ca/~ssurjano/crossit.html"
   ]
  },
  {
   "cell_type": "code",
   "execution_count": 694,
   "id": "1dcd5d28",
   "metadata": {},
   "outputs": [],
   "source": [
    "import numpy as np\n",
    "import random\n",
    "import json\n",
    "\n",
    "from typing import List, Tuple, Callable\n",
    "\n",
    "import binary.binary_utils as bu\n",
    "import mutation as mu"
   ]
  },
  {
   "cell_type": "code",
   "execution_count": 695,
   "id": "8640a95f",
   "metadata": {},
   "outputs": [],
   "source": [
    "with open('config.json', 'r') as f:\n",
    "    config = json.load(f)"
   ]
  },
  {
   "cell_type": "code",
   "execution_count": 696,
   "id": "e73590a0",
   "metadata": {},
   "outputs": [],
   "source": [
    "def cross_in_tray(x1: int, x2: int) -> int:\n",
    "    term1 = np.sin(x1) * np.sin(x2)\n",
    "    term2 = np.exp(abs(100 - np.sqrt(x1 ** 2 + x2 ** 2) / np.pi))\n",
    "\n",
    "    return -0.0001 * (abs(term1 * term2) + 1) ** 0.1"
   ]
  },
  {
   "cell_type": "code",
   "execution_count": 697,
   "id": "5cc8c39d",
   "metadata": {},
   "outputs": [],
   "source": [
    "def holder_table(x1: int, x2: int) -> int:\n",
    "    term1 = np.sin(x1) * np.cos(x2)\n",
    "    term2 = np.exp(abs(1 - (np.sqrt(x1 ** 2 + x2 ** 2)) / np.pi))\n",
    "\n",
    "    return -1 * abs(term1 * term2)"
   ]
  },
  {
   "cell_type": "code",
   "execution_count": 698,
   "id": "6dc3ecc5",
   "metadata": {},
   "outputs": [],
   "source": [
    "optimization_f = cross_in_tray"
   ]
  },
  {
   "cell_type": "code",
   "execution_count": 699,
   "id": "519a5fff",
   "metadata": {},
   "outputs": [],
   "source": [
    "def fitness(individual: str, optimization_f: Callable = None) -> float:\n",
    "    if optimization_f is None:\n",
    "        optimization_f = holder_table\n",
    "    \n",
    "    if isinstance(individual, str):\n",
    "        x1, x2 = bu.decode(individual, config[\"bits_per_input\"]) \n",
    "    else:\n",
    "        x1, x2 = individual\n",
    "    \n",
    "    return optimization_f(x1, x2)"
   ]
  },
  {
   "cell_type": "code",
   "execution_count": 700,
   "id": "79a66c6a",
   "metadata": {},
   "outputs": [],
   "source": [
    "def generate_initial_population(population_size: int, generate_f: Callable) -> List[dict]:\n",
    "    generation = []\n",
    "    \n",
    "    for _ in range(population_size):\n",
    "        individual = generate_f()\n",
    "        \n",
    "        fitness_score = fitness(individual, optimization_f)\n",
    "            \n",
    "        generation.append({\"binary\": individual, \"score\": fitness_score})\n",
    "    return generation"
   ]
  },
  {
   "cell_type": "code",
   "execution_count": 701,
   "id": "1d0647aa",
   "metadata": {},
   "outputs": [],
   "source": [
    "def tournament_selection(population, tournament_size=3):\n",
    "    tournament = random.sample(population, tournament_size)\n",
    "\n",
    "    return min(tournament, key=lambda ind: ind[\"score\"])"
   ]
  },
  {
   "cell_type": "code",
   "execution_count": 702,
   "id": "115fa944",
   "metadata": {},
   "outputs": [
    {
     "name": "stdout",
     "output_type": "stream",
     "text": [
      "Generation 10, Best score: -2.052113, x1=-1.6078, x2=1.5294\n",
      "Generation 20, Best score: -2.062496, x1=-1.3725, x2=1.3725\n",
      "Score: -2.0624962014\n",
      "x1=-1.372549, x2=1.372549\n",
      "Binary: 1001000101101110\n"
     ]
    }
   ],
   "source": [
    "population = generate_initial_population(\n",
    "    config[\"population_size\"], \n",
    "    generate_f=lambda: bu.generate_binary_individual(config[\"bits_per_input\"])\n",
    ")\n",
    "best_overall = min(population, key=lambda ind: ind[\"score\"])\n",
    "crossover_f = mu.one_point_crossover\n",
    "for gen in range(config[\"generations\"]):\n",
    "    new_population = []\n",
    "    elite = min(population, key=lambda ind: ind[\"score\"])\n",
    "    new_population.append(elite)\n",
    "    \n",
    "    while len(new_population) < config[\"population_size\"]:\n",
    "        parent1 = tournament_selection(population)\n",
    "        parent2 = tournament_selection(population)\n",
    "        \n",
    "        if random.random() < config[\"crossover_rate\"]:\n",
    "            child1_binary, child2_binary = crossover_f(parent1[\"binary\"], parent2[\"binary\"])\n",
    "        else: \n",
    "            child1_binary, child2_binary = parent1[\"binary\"], parent2[\"binary\"]\n",
    "            \n",
    "        child1_binary = bu.binary_mutation(child1_binary, config[\"mutation_rate\"])\n",
    "        child2_binary = bu.binary_mutation(child2_binary, config[\"mutation_rate\"])\n",
    "        \n",
    "        child1 = {\"binary\": child1_binary, \"score\": fitness(child1_binary, optimization_f)}\n",
    "        new_population.append(child1)\n",
    "        \n",
    "        if len(new_population) < config[\"population_size\"]:\n",
    "            child2 = {\"binary\": child2_binary, \"score\": fitness(child2_binary, optimization_f)}\n",
    "            new_population.append(child2)\n",
    "            \n",
    "    population = new_population\n",
    "    \n",
    "    current_best = min(population, key=lambda ind: ind[\"score\"])\n",
    "    if current_best[\"score\"] < best_overall[\"score\"]:\n",
    "        best_overall = current_best\n",
    "    \n",
    "    if (gen + 1) % 10 == 0:\n",
    "        best_x1, best_x2 = bu.decode(best_overall[\"binary\"], config[\"bits_per_input\"])\n",
    "        print(f\"Generation {gen + 1}, Best score: {best_overall['score']:.6f}, x1={best_x1:.4f}, x2={best_x2:.4f}\")\n",
    "         \n",
    "best_x1, best_x2 = bu.decode(best_overall[\"binary\"], config[\"bits_per_input\"])\n",
    "print(f\"Score: {best_overall['score']:.10f}\")\n",
    "print(f\"x1={best_x1:.6f}, x2={best_x2:.6f}\")\n",
    "print(f\"Binary: {best_overall['binary']}\")"
   ]
  }
 ],
 "metadata": {
  "kernelspec": {
   "display_name": "genetic-algorithms",
   "language": "python",
   "name": "python3"
  },
  "language_info": {
   "codemirror_mode": {
    "name": "ipython",
    "version": 3
   },
   "file_extension": ".py",
   "mimetype": "text/x-python",
   "name": "python",
   "nbconvert_exporter": "python",
   "pygments_lexer": "ipython3",
   "version": "3.13.2"
  }
 },
 "nbformat": 4,
 "nbformat_minor": 5
}
