{
  "cells": [
    {
      "cell_type": "code",
      "source": [
        "from sklearn.datasets import load_diabetes, fetch_california_housing\n",
        "from sklearn.metrics import mean_squared_error\n",
        "from sklearn.linear_model import Ridge\n",
        "from sklearn.model_selection import GridSearchCV\n",
        "import numpy as np"
      ],
      "outputs": [],
      "execution_count": 69,
      "metadata": {
        "collapsed": true,
        "ExecuteTime": {
          "end_time": "2023-12-27T11:18:15.579087400Z",
          "start_time": "2023-12-27T11:18:15.574579800Z"
        }
      },
      "id": "initial_id"
    },
    {
      "cell_type": "code",
      "source": [
        "def ridge_regression(given_dataset, alpha):\n",
        "    x = given_dataset.data\n",
        "    y = given_dataset.target\n",
        "    \n",
        "    x_with_bias = np.hstack([np.ones((x.shape[0], 1)), x])\n",
        "    x_with_bias_transposed = np.transpose(x_with_bias)\n",
        "    \n",
        "    y_results = x_with_bias_transposed @ y\n",
        "    \n",
        "    x_to_be_regularized = x_with_bias_transposed @ x_with_bias\n",
        "    \n",
        "    regularization_matrix = np.identity(x_with_bias.shape[1]) * alpha\n",
        "    regularization_matrix[0, 0] = 0\n",
        "    x_regularized = x_to_be_regularized + regularization_matrix\n",
        "    \n",
        "    x_regularized_inverse = np.linalg.inv(x_regularized)\n",
        "    coefficients = x_regularized_inverse @ y_results\n",
        "    \n",
        "    y_predicted = x_with_bias @ coefficients\n",
        "    \n",
        "    model = Ridge(alpha=alpha)\n",
        "    model.fit(x, y)\n",
        "    y_predicted_by_library_model = model.predict(x)\n",
        "\n",
        "    mse = mean_squared_error(y, y_predicted)\n",
        "    mse_sklearn = mean_squared_error(y, y_predicted_by_library_model)\n",
        "    \n",
        "    print(f\"my mean square error: {mse}\")\n",
        "    print(f\"sklearn model mean square error: {mse_sklearn}\")"
      ],
      "outputs": [],
      "execution_count": 70,
      "metadata": {
        "collapsed": false,
        "ExecuteTime": {
          "end_time": "2023-12-27T11:18:15.588533Z",
          "start_time": "2023-12-27T11:18:15.578088Z"
        }
      },
      "id": "b19a4b27d28e0c8d"
    },
    {
      "cell_type": "code",
      "source": [
        "def find_alpha(given_dataset):\n",
        "    x = given_dataset.data\n",
        "    y = given_dataset.target\n",
        "    \n",
        "    model = Ridge()\n",
        "    alpha_values = np.linspace(0, 100, 1000)\n",
        "    grid_search = GridSearchCV(estimator=model, param_grid={'alpha': alpha_values}, \n",
        "                           scoring='neg_mean_squared_error', cv=10)\n",
        "    grid_search.fit(x, y)\n",
        "    \n",
        "    best_alpha_found = grid_search.best_params_['alpha']\n",
        "    \n",
        "    return best_alpha_found"
      ],
      "outputs": [],
      "execution_count": 71,
      "metadata": {
        "collapsed": false,
        "ExecuteTime": {
          "end_time": "2023-12-27T11:18:15.588533Z",
          "start_time": "2023-12-27T11:18:15.585335200Z"
        }
      },
      "id": "2ac04d771acff5ef"
    },
    {
      "cell_type": "code",
      "source": [
        "# less complex dataset, with 442 samples, case in which it seems linear regression works best (GridSearchCV finds alpha = 0 -> no regularization)\n",
        "dataset = load_diabetes()\n",
        "best_alpha = find_alpha(dataset)\n",
        "print(\"best alpha found: \", best_alpha)\n",
        "ridge_regression(dataset, best_alpha)"
      ],
      "outputs": [
        {
          "output_type": "stream",
          "name": "stdout",
          "text": "best alpha found:  0.0\nmy mean square error: 2859.6963475867506\nsklean model mean square error: 2859.6963475867506\n"
        }
      ],
      "execution_count": 74,
      "metadata": {
        "collapsed": false,
        "ExecuteTime": {
          "end_time": "2023-12-27T11:29:58.839284400Z",
          "start_time": "2023-12-27T11:29:52.806742500Z"
        }
      },
      "id": "5c172e29d2a327c5"
    },
    {
      "cell_type": "code",
      "source": [
        "# more complex dataset, with 20640 samples, which seems to benefit from regularization\n",
        "dataset = fetch_california_housing()\n",
        "best_alpha = find_alpha(dataset)\n",
        "print(\"best alpha found: \", best_alpha)\n",
        "ridge_regression(dataset, best_alpha)"
      ],
      "outputs": [
        {
          "output_type": "stream",
          "name": "stdout",
          "text": "best alpha found:  88.4884884884885\nmy mean square error: 0.5245396977166756\nsklean model mean square error: 0.5245396977167116\n"
        }
      ],
      "execution_count": 73,
      "metadata": {
        "collapsed": false,
        "ExecuteTime": {
          "end_time": "2023-12-27T11:18:43.291237700Z",
          "start_time": "2023-12-27T11:18:21.766845700Z"
        }
      },
      "id": "525fa7169fda475c"
    },
    {
      "cell_type": "code",
      "source": [],
      "outputs": [],
      "execution_count": 73,
      "metadata": {
        "collapsed": false,
        "ExecuteTime": {
          "end_time": "2023-12-27T11:18:43.291237700Z",
          "start_time": "2023-12-27T11:18:43.289538600Z"
        }
      },
      "id": "be11b5d696a5243e"
    }
  ],
  "metadata": {
    "kernelspec": {
      "name": "python",
      "language": "python",
      "display_name": "Pyolite (preview)"
    },
    "language_info": {
      "codemirror_mode": {
        "name": "python",
        "version": 3
      },
      "file_extension": ".py",
      "mimetype": "text/x-python",
      "name": "python",
      "nbconvert_exporter": "python",
      "pygments_lexer": "ipython3",
      "version": "3.8"
    },
    "kernel_info": {
      "name": "python"
    },
    "nteract": {
      "version": "nteract-front-end@1.0.0"
    }
  },
  "nbformat": 4,
  "nbformat_minor": 5
}