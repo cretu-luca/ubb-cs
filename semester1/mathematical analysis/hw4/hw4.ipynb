{
 "cells": [
  {
   "cell_type": "code",
   "execution_count": 2,
   "metadata": {},
   "outputs": [],
   "source": [
    "import math"
   ]
  },
  {
   "cell_type": "code",
   "execution_count": 3,
   "metadata": {},
   "outputs": [],
   "source": [
    "def harmonicAlternatingSeries(p, q, n):\n",
    "    sum = 0.0\n",
    "    positive_number = 1\n",
    "    negative_number = 2\n",
    "    while n > 0:\n",
    "        for i in range(min(p, n)):\n",
    "            sum = sum + 1 / positive_number\n",
    "            positive_number += 2\n",
    "            n -= 1\n",
    "        for i in range(min(q, n)):\n",
    "            sum = sum - 1 / negative_number\n",
    "            negative_number += 2\n",
    "            n -= 1\n",
    "\n",
    "    return sum"
   ]
  },
  {
   "cell_type": "code",
   "execution_count": 6,
   "metadata": {},
   "outputs": [],
   "source": [
    "def main(p, q, actual_value):\n",
    "    n = 500\n",
    "    header_format = \"{:<15} | {:<15} | {:<15}\"\n",
    "    print(header_format.format(\"Terms in sum\", \"Sum value\", \"Actual value\"))\n",
    "    for _ in range(3):\n",
    "        print(\"{:<15} | {:<15.10f} | {:<15}\".format(int(n), harmonicAlternatingSeries(p, q, n), actual_value))\n",
    "        n = n * 500\n",
    "\n",
    "    print('\\n')"
   ]
  },
  {
   "cell_type": "code",
   "execution_count": 7,
   "metadata": {},
   "outputs": [
    {
     "name": "stdout",
     "output_type": "stream",
     "text": [
      "Terms in sum    | Sum value       | Actual value   \n",
      "500             | 0.6921481806    | 0.69314718056  \n",
      "250000          | 0.6931451806    | 0.69314718056  \n",
      "125000000       | 0.6931471766    | 0.69314718056  \n",
      "\n",
      "\n"
     ]
    }
   ],
   "source": [
    "main(1, 1, 0.69314718056)"
   ]
  },
  {
   "cell_type": "code",
   "execution_count": 8,
   "metadata": {},
   "outputs": [
    {
     "name": "stdout",
     "output_type": "stream",
     "text": [
      "Terms in sum    | Sum value       | Actual value   \n",
      "500             | 0.3473232138    | 0.34657359028  \n",
      "250000          | 0.3465780903    | 0.34657359028  \n",
      "125000000       | 0.3465735933    | 0.34657359028  \n",
      "\n",
      "\n"
     ]
    }
   ],
   "source": [
    "main(1, 2, 0.34657359028)"
   ]
  },
  {
   "cell_type": "code",
   "execution_count": 9,
   "metadata": {},
   "outputs": [
    {
     "name": "stdout",
     "output_type": "stream",
     "text": [
      "Terms in sum    | Sum value       | Actual value   \n",
      "500             | 0.2687852307    | -              \n",
      "250000          | 0.2694968218    | -              \n",
      "125000000       | 0.2694982475    | -              \n",
      "\n",
      "\n"
     ]
    }
   ],
   "source": [
    "main(3, 7, \"-\")"
   ]
  }
 ],
 "metadata": {
  "kernelspec": {
   "display_name": "Python 3",
   "language": "python",
   "name": "python3"
  },
  "language_info": {
   "codemirror_mode": {
    "name": "ipython",
    "version": 3
   },
   "file_extension": ".py",
   "mimetype": "text/x-python",
   "name": "python",
   "nbconvert_exporter": "python",
   "pygments_lexer": "ipython3",
   "version": "3.12.0"
  }
 },
 "nbformat": 4,
 "nbformat_minor": 2
}
